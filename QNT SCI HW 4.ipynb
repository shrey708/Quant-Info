{
 "cells": [
  {
   "cell_type": "markdown",
   "metadata": {},
   "source": [
    "Question 3)"
   ]
  },
  {
   "cell_type": "code",
   "execution_count": 208,
   "metadata": {},
   "outputs": [],
   "source": [
    "import numpy as np\n",
    "from qutip import *"
   ]
  },
  {
   "cell_type": "markdown",
   "metadata": {},
   "source": [
    "a) Alice "
   ]
  },
  {
   "cell_type": "code",
   "execution_count": 209,
   "metadata": {},
   "outputs": [
    {
     "name": "stdout",
     "output_type": "stream",
     "text": [
      "Event 1: Quantum object: dims = [[2], [1]], shape = (2, 1), type = ket\n",
      "Qobj data =\n",
      "[[0.70710678]\n",
      " [0.70710678]]\n",
      "Event 2: Quantum object: dims = [[2], [1]], shape = (2, 1), type = ket\n",
      "Qobj data =\n",
      "[[1.]\n",
      " [0.]]\n",
      "Event 3: Quantum object: dims = [[2], [1]], shape = (2, 1), type = ket\n",
      "Qobj data =\n",
      "[[0.70710678]\n",
      " [0.70710678]]\n",
      "Event 4: Quantum object: dims = [[2], [1]], shape = (2, 1), type = ket\n",
      "Qobj data =\n",
      "[[1.]\n",
      " [0.]]\n",
      "Event 5: Quantum object: dims = [[2], [1]], shape = (2, 1), type = ket\n",
      "Qobj data =\n",
      "[[0.70710678]\n",
      " [0.70710678]]\n"
     ]
    }
   ],
   "source": [
    "def Alice(bits):\n",
    "    events = []\n",
    "    \n",
    "    for i in range (1, bits+1):\n",
    "        photon = np.random.choice([0, 1])\n",
    "        \n",
    "        if photon == 0:\n",
    "            polar_state = basis(2, photon)\n",
    "        else: \n",
    "            polar_state = (1/np.sqrt(2))*(basis(2,0)+basis(2,1))\n",
    "        events.append((i,polar_state))\n",
    "        \n",
    "    return events\n",
    "\n",
    "\n",
    "bits = 5\n",
    "alice_events = Alice(bits)\n",
    "\n",
    "for index, state in alice_events:\n",
    "    print(f\"Event {index}: {state}\")"
   ]
  },
  {
   "cell_type": "markdown",
   "metadata": {},
   "source": [
    "b) Bob"
   ]
  },
  {
   "cell_type": "code",
   "execution_count": 451,
   "metadata": {},
   "outputs": [
    {
     "name": "stdout",
     "output_type": "stream",
     "text": [
      "Alice's Output:\n",
      "Index\tPhoton State\n",
      "1\tQuantum object: dims = [[2], [1]], shape = (2, 1), type = ket\n",
      "Qobj data =\n",
      "[[1.]\n",
      " [0.]]\n",
      "2\tQuantum object: dims = [[2], [1]], shape = (2, 1), type = ket\n",
      "Qobj data =\n",
      "[[1.]\n",
      " [0.]]\n",
      "3\tQuantum object: dims = [[2], [1]], shape = (2, 1), type = ket\n",
      "Qobj data =\n",
      "[[1.]\n",
      " [0.]]\n",
      "4\tQuantum object: dims = [[2], [1]], shape = (2, 1), type = ket\n",
      "Qobj data =\n",
      "[[0.70710678]\n",
      " [0.70710678]]\n",
      "5\tQuantum object: dims = [[2], [1]], shape = (2, 1), type = ket\n",
      "Qobj data =\n",
      "[[0.70710678]\n",
      " [0.70710678]]\n",
      "\n",
      "Bob's Output:\n",
      "Index\tBob's Guess\n",
      "1\t0\n",
      "2\t0\n",
      "3\t0\n",
      "4\t0\n"
     ]
    }
   ],
   "source": [
    "\n",
    "def Alice(bits):\n",
    "    events = []\n",
    "    \n",
    "    for i in range (1, bits+1):\n",
    "        photon = np.random.choice([0, 1])\n",
    "        \n",
    "        if photon == 0:\n",
    "            polar_state = basis(2, photon)\n",
    "        else: \n",
    "            polar_state = (1/np.sqrt(2))*(basis(2,0)+basis(2,1))\n",
    "        events.append((i,polar_state))\n",
    "        \n",
    "    return events\n",
    "\n",
    "def bob(alice_output):\n",
    "    detected_events = []\n",
    "    for event in alice_output:\n",
    "        index, photon_state = event\n",
    "        \n",
    "        # Bob measures with either |↕⟩ (vertical) or |⤡⟩ (diagonal)\n",
    "        measurement_basis = np.random.choice([0, 1])\n",
    "        if measurement_basis == 0:\n",
    "            bob_measurement = basis(2, measurement_basis)  # |↕⟩ in H/V basis\n",
    "        else:\n",
    "            bob_polar_state = (1/np.sqrt(2))*(basis(2, 0)- basis(2, 1))  # |⤡⟩ in H/V basis\n",
    "        \n",
    "        # Compute the probability of detection\n",
    "        probability_of_detection = abs((photon_state.dag() * bob_measurement).full()[0, 0]) ** 2\n",
    "        \n",
    "        # Simulate the detection event\n",
    "        detection_event = np.random.choice([True, False], p=[probability_of_detection, 1 - probability_of_detection])\n",
    "        \n",
    "        # If Bob detects a photon, record the result\n",
    "        if detection_event:\n",
    "            detected_events.append([index, int(measurement_basis == 'diagonal')])\n",
    "    \n",
    "    return detected_events\n",
    "\n",
    "# Example usage\n",
    "Np = 10  # Number of photons\n",
    "alice_output = Alice(bits)\n",
    "bob_output = bob(alice_output)\n",
    "\n",
    "# Print the results\n",
    "print(\"Alice's Output:\")\n",
    "print(\"Index\\tPhoton State\")\n",
    "for event in alice_output:\n",
    "    print(f\"{event[0]}\\t{event[1]}\")\n",
    "\n",
    "print(\"\\nBob's Output:\")\n",
    "print(\"Index\\tBob's Guess\")\n",
    "for event in bob_output:\n",
    "    print(f\"{event[0]}\\t{event[1]}\")\n"
   ]
  },
  {
   "cell_type": "markdown",
   "metadata": {},
   "source": [
    "c) "
   ]
  },
  {
   "cell_type": "code",
   "execution_count": 471,
   "metadata": {},
   "outputs": [
    {
     "name": "stdout",
     "output_type": "stream",
     "text": [
      "Alice's output:\n",
      "Event 1: Quantum object: dims = [[2], [1]], shape = (2, 1), type = ket\n",
      "Qobj data =\n",
      "[[0.70710678]\n",
      " [0.70710678]]\n",
      "Event 2: Quantum object: dims = [[2], [1]], shape = (2, 1), type = ket\n",
      "Qobj data =\n",
      "[[0.70710678]\n",
      " [0.70710678]]\n",
      "Event 3: Quantum object: dims = [[2], [1]], shape = (2, 1), type = ket\n",
      "Qobj data =\n",
      "[[0.70710678]\n",
      " [0.70710678]]\n",
      "Event 4: Quantum object: dims = [[2], [1]], shape = (2, 1), type = ket\n",
      "Qobj data =\n",
      "[[0.70710678]\n",
      " [0.70710678]]\n",
      "Event 5: Quantum object: dims = [[2], [1]], shape = (2, 1), type = ket\n",
      "Qobj data =\n",
      "[[0.70710678]\n",
      " [0.70710678]]\n",
      "\n",
      "Bob's detected events:\n",
      "Event 1: Bob thinks Alice sent bit 0\n",
      "Event 2: Bob thinks Alice sent bit 0\n",
      "Event 3: Bob thinks Alice sent bit 0\n",
      "Event 4: Bob thinks Alice sent bit 0\n"
     ]
    }
   ],
   "source": [
    "\n",
    "def bob(alice_output):\n",
    "    detected_events = []\n",
    "    for event in alice_output:\n",
    "        index, photon_state = event\n",
    "        \n",
    "        # Bob measures with either |↕⟩ (vertical) or |⤡⟩ (diagonal)\n",
    "        measurement_basis = np.random.choice([0, 1])\n",
    "        if measurement_basis == 0:\n",
    "            bob_measurement = basis(2, measurement_basis)  # |↕⟩ in H/V basis\n",
    "        else:\n",
    "            bob_polar_state = (1/np.sqrt(2))*(basis(2, 0)- basis(2, 1))  # |⤡⟩ in H/V basis\n",
    "        \n",
    "        \n",
    "        # Compute the probability of detection\n",
    "        probability_of_detection = abs((photon_state.dag() * bob_measurement).full()[0, 0]) ** 2\n",
    "        \n",
    "        # Simulate the detection event\n",
    "        detection_event = np.random.choice([True, False], p=[probability_of_detection, 1 - probability_of_detection])\n",
    "        \n",
    "        # If Bob detects a photon, record the result\n",
    "        if detection_event:\n",
    "            detected_events.append([index, int(measurement_basis == 'diagonal')])\n",
    "    \n",
    "    return detected_events\n",
    "\n",
    "# Example usage\n",
    "Np = 10  # Number of photons\n",
    "alice_output = Alice(bits)\n",
    "bob_output = bob(alice_output)\n",
    "\n",
    "# Print results\n",
    "print(\"Alice's output:\")\n",
    "for event in alice_output:\n",
    "    print(f\"Event {event[0]}: {event[1]}\")\n",
    "\n",
    "print(\"\\nBob's detected events:\")\n",
    "for event in bob_output:\n",
    "    print(f\"Event {event[0]}: Bob thinks Alice sent bit {event[1]}\")\n"
   ]
  },
  {
   "cell_type": "markdown",
   "metadata": {},
   "source": [
    "d)"
   ]
  },
  {
   "cell_type": "code",
   "execution_count": 529,
   "metadata": {},
   "outputs": [],
   "source": [
    "def Eve(events):\n",
    "    results = []\n",
    "    for event in events:\n",
    "        index, state = event\n",
    "        # Eve performs the same measurement as Bob\n",
    "        eve_measurement_basis = bob_measurement_basis\n",
    "        #if measurement_basis == 0:\n",
    "        #    eve_measurement = basis(2, measurement_basis)  # |↕⟩ in H/V basis\n",
    "        #else:\n",
    "        #    evepolar_state = (1/np.sqrt(2))*(basis(2, 0)- basis(2, 1))  # |⤡⟩ in H/V basis\n",
    "        \n",
    "        measurement = state.measure([basis(2, 0), basis(2, 1)])\n",
    "        # Eve makes her best guess based on the measurement\n",
    "        if measurement[0] == 1:\n",
    "            guessed_state = basis(2, 0)\n",
    "        elif measurement[1] == 1:\n",
    "            guessed_state = basis(2, 1)\n",
    "        results.append([index, guessed_state])\n",
    "        print(results)\n",
    "    return results"
   ]
  },
  {
   "cell_type": "code",
   "execution_count": 473,
   "metadata": {},
   "outputs": [],
   "source": [
    "#def Eve(events):\n",
    "#    results = []\n",
    "#    for event in events:\n",
    "#        index, state = event\n",
    "#        # Eve performs the same measurement as Bob\n",
    "#        measurement_basis = np.random.choice([0, 1])\n",
    "#        if measurement_basis == 0:\n",
    "#            bob_measurement = basis(2, measurement_basis)  # |↕⟩ in H/V basis\n",
    "#        else:\n",
    "#            polar_state = (1/np.sqrt(2))*(basis(2, 0)- basis(2, 1)) \n",
    "#        measurement = expect([bob_measurement, polar_state, state)\n",
    "#        ## Eve makes her best guess based on the measurement\n",
    "#        #if measurement[0] == 1:\n",
    "#        #    guessed_state = basis(2, 0)\n",
    "#        #elif measurement[1] == 1:\n",
    "#        #    guessed_state = basis(2, 1)\n",
    "#        results.append([index, guessed_state])\n",
    "#    return results\n",
    "#"
   ]
  },
  {
   "cell_type": "markdown",
   "metadata": {},
   "source": [
    "e)"
   ]
  },
  {
   "cell_type": "code",
   "execution_count": 476,
   "metadata": {},
   "outputs": [
    {
     "name": "stdout",
     "output_type": "stream",
     "text": [
      "Error Rate: 0.06\n"
     ]
    }
   ],
   "source": [
    "Np = 100\n",
    "\n",
    "# Alice sends photons to Bob through the channel\n",
    "alice_events = Alice(bits)\n",
    "\n",
    "# Bob receives and measures the photons\n",
    "bob_output = bob(alice_events)\n",
    "\n",
    "# Alice and Bob use half of the events for verification\n",
    "verification_size = Np // 2\n",
    "alice_verify = alice_events[:verification_size]\n",
    "bob_verify = bob_output[:verification_size]\n",
    "\n",
    "# Count the number of errors in the verification process\n",
    "error_count = sum(1 for a, b in zip(alice_verify, bob_verify) if a[1] != b[1])\n",
    "\n",
    "# Calculate the error rate\n",
    "error_rate = error_count / verification_size\n",
    "\n",
    "print(\"Error Rate:\", error_rate)\n"
   ]
  },
  {
   "cell_type": "markdown",
   "metadata": {},
   "source": [
    "f)"
   ]
  },
  {
   "cell_type": "code",
   "execution_count": 494,
   "metadata": {},
   "outputs": [
    {
     "name": "stdout",
     "output_type": "stream",
     "text": [
      "Error Rate: 0.01\n"
     ]
    }
   ],
   "source": [
    "Np = 1000\n",
    "\n",
    "# Alice sends photons to Bob through the channel\n",
    "alice_events = Alice(bits)\n",
    "\n",
    "# Bob receives and measures the photons\n",
    "bob_output = bob(alice_events)\n",
    "\n",
    "# Alice and Bob use half of the events for verification\n",
    "verification_size = Np // 2\n",
    "alice_verify = alice_events[:verification_size]\n",
    "bob_verify = bob_output[:verification_size]\n",
    "\n",
    "# Count the number of errors in the verification process\n",
    "error_count = sum(1 for a, b in zip(alice_verify, bob_verify) if a[1] != b[1])\n",
    "\n",
    "# Calculate the error rate\n",
    "error_rate = error_count / verification_size\n",
    "\n",
    "print(\"Error Rate:\", error_rate)\n"
   ]
  }
 ],
 "metadata": {
  "kernelspec": {
   "display_name": "Python 3",
   "language": "python",
   "name": "python3"
  },
  "language_info": {
   "codemirror_mode": {
    "name": "ipython",
    "version": 3
   },
   "file_extension": ".py",
   "mimetype": "text/x-python",
   "name": "python",
   "nbconvert_exporter": "python",
   "pygments_lexer": "ipython3",
   "version": "3.12.1"
  }
 },
 "nbformat": 4,
 "nbformat_minor": 2
}
