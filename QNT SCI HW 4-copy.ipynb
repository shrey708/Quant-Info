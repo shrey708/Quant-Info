{
 "cells": [
  {
   "cell_type": "markdown",
   "metadata": {},
   "source": [
    "Question 3)"
   ]
  },
  {
   "cell_type": "code",
   "execution_count": 2,
   "metadata": {},
   "outputs": [],
   "source": [
    "import numpy as np\n",
    "from qutip import *"
   ]
  },
  {
   "cell_type": "markdown",
   "metadata": {},
   "source": [
    "a) Alice "
   ]
  },
  {
   "cell_type": "code",
   "execution_count": 3,
   "metadata": {},
   "outputs": [
    {
     "name": "stdout",
     "output_type": "stream",
     "text": [
      "Event 1: Quantum object: dims = [[2], [1]], shape = (2, 1), type = ket\n",
      "Qobj data =\n",
      "[[0.]\n",
      " [1.]]\n",
      "Event 2: Quantum object: dims = [[2], [1]], shape = (2, 1), type = ket\n",
      "Qobj data =\n",
      "[[1.]\n",
      " [0.]]\n",
      "Event 3: Quantum object: dims = [[2], [1]], shape = (2, 1), type = ket\n",
      "Qobj data =\n",
      "[[0.]\n",
      " [1.]]\n",
      "Event 4: Quantum object: dims = [[2], [1]], shape = (2, 1), type = ket\n",
      "Qobj data =\n",
      "[[0.]\n",
      " [1.]]\n",
      "Event 5: Quantum object: dims = [[2], [1]], shape = (2, 1), type = ket\n",
      "Qobj data =\n",
      "[[0.]\n",
      " [1.]]\n"
     ]
    }
   ],
   "source": [
    "\n",
    "\n",
    "def Alice(N_p):\n",
    "    events = []\n",
    "\n",
    "    for i in range(1, N_p + 1):\n",
    "        # Randomly choose 0 or 1 with equal probability\n",
    "        bit_to_send = np.random.choice([0, 1])\n",
    "\n",
    "        # Create a quantum object representing the photon state\n",
    "        photon_state = basis(2, bit_to_send)\n",
    "\n",
    "        # Append the event as a tuple (index, photon_state) to the events list\n",
    "        events.append((i, Qobj(photon_state)))\n",
    "\n",
    "    return events\n",
    "\n",
    "# Example usage:\n",
    "N_p = 5  # Number of bits (photons) to send\n",
    "alice_events = Alice(N_p)\n",
    "\n",
    "# Display the results\n",
    "for index, state in alice_events:\n",
    "    print(f\"Event {index}: {state}\")\n"
   ]
  },
  {
   "cell_type": "markdown",
   "metadata": {},
   "source": [
    "b) Bob"
   ]
  },
  {
   "cell_type": "code",
   "execution_count": 4,
   "metadata": {},
   "outputs": [
    {
     "ename": "NameError",
     "evalue": "name 'qt' is not defined",
     "output_type": "error",
     "traceback": [
      "\u001b[0;31m---------------------------------------------------------------------------\u001b[0m",
      "\u001b[0;31mNameError\u001b[0m                                 Traceback (most recent call last)",
      "Cell \u001b[0;32mIn[4], line 43\u001b[0m\n\u001b[1;32m     41\u001b[0m \u001b[38;5;66;03m# Example usage\u001b[39;00m\n\u001b[1;32m     42\u001b[0m Np \u001b[38;5;241m=\u001b[39m \u001b[38;5;241m10\u001b[39m  \u001b[38;5;66;03m# Number of photons\u001b[39;00m\n\u001b[0;32m---> 43\u001b[0m alice_output \u001b[38;5;241m=\u001b[39m \u001b[43malice\u001b[49m\u001b[43m(\u001b[49m\u001b[43mNp\u001b[49m\u001b[43m)\u001b[49m\n\u001b[1;32m     44\u001b[0m bob_output \u001b[38;5;241m=\u001b[39m bob(alice_output)\n\u001b[1;32m     46\u001b[0m \u001b[38;5;66;03m# Print the results\u001b[39;00m\n",
      "Cell \u001b[0;32mIn[4], line 11\u001b[0m, in \u001b[0;36malice\u001b[0;34m(Np)\u001b[0m\n\u001b[1;32m      9\u001b[0m         photon_state \u001b[38;5;241m=\u001b[39m qt\u001b[38;5;241m.\u001b[39mbasis(\u001b[38;5;241m2\u001b[39m, \u001b[38;5;241m0\u001b[39m)  \u001b[38;5;66;03m# |↔⟩ in H/V basis\u001b[39;00m\n\u001b[1;32m     10\u001b[0m     \u001b[38;5;28;01melse\u001b[39;00m:\n\u001b[0;32m---> 11\u001b[0m         photon_state \u001b[38;5;241m=\u001b[39m \u001b[43mqt\u001b[49m\u001b[38;5;241m.\u001b[39mbasis(\u001b[38;5;241m2\u001b[39m, \u001b[38;5;241m1\u001b[39m)  \u001b[38;5;66;03m# |⤢⟩ in H/V basis\u001b[39;00m\n\u001b[1;32m     13\u001b[0m     events\u001b[38;5;241m.\u001b[39mappend([i, photon_state])\n\u001b[1;32m     15\u001b[0m \u001b[38;5;28;01mreturn\u001b[39;00m events\n",
      "\u001b[0;31mNameError\u001b[0m: name 'qt' is not defined"
     ]
    }
   ],
   "source": [
    "\n",
    "def alice(Np):\n",
    "    events = []\n",
    "    for i in range(1, Np + 1):\n",
    "        # Choose randomly between 0 and 1 with equal probability\n",
    "        bit_to_send = np.random.choice([0, 1])\n",
    "        \n",
    "        # Create the corresponding quantum object\n",
    "        if bit_to_send == 0:\n",
    "            photon_state = qt.basis(2, 0)  # |↔⟩ in H/V basis\n",
    "        else:\n",
    "            photon_state = qt.basis(2, 1)  # |⤢⟩ in H/V basis\n",
    "        \n",
    "        events.append([i, photon_state])\n",
    "    \n",
    "    return events\n",
    "\n",
    "def bob(alice_output):\n",
    "    detected_events = []\n",
    "    for event in alice_output:\n",
    "        index, photon_state = event\n",
    "        \n",
    "        # Bob measures with either |↕⟩ (vertical) or |⤡⟩ (diagonal)\n",
    "        measurement_basis = np.random.choice(['vertical', 'diagonal'])\n",
    "        if measurement_basis == 'vertical':\n",
    "            bob_measurement = qt.basis(2, 0)  # |↕⟩ in H/V basis\n",
    "        else:\n",
    "            bob_measurement = qt.basis(2, 1)  # |⤡⟩ in H/V basis\n",
    "        \n",
    "        # Compute the probability of detection\n",
    "        probability_of_detection = abs((photon_state.dag() * bob_measurement).full()[0, 0]) ** 2\n",
    "        \n",
    "        # Simulate the detection event\n",
    "        detection_event = np.random.choice([True, False], p=[probability_of_detection, 1 - probability_of_detection])\n",
    "        \n",
    "        # If Bob detects a photon, record the result\n",
    "        if detection_event:\n",
    "            detected_events.append([index, int(measurement_basis == 'diagonal')])\n",
    "    \n",
    "    return detected_events\n",
    "\n",
    "# Example usage\n",
    "Np = 10  # Number of photons\n",
    "alice_output = alice(Np)\n",
    "bob_output = bob(alice_output)\n",
    "\n",
    "# Print the results\n",
    "print(\"Alice's Output:\")\n",
    "print(\"Index\\tPhoton State\")\n",
    "for event in alice_output:\n",
    "    print(f\"{event[0]}\\t{event[1]}\")\n",
    "\n",
    "print(\"\\nBob's Output:\")\n",
    "print(\"Index\\tBob's Guess\")\n",
    "for event in bob_output:\n",
    "    print(f\"{event[0]}\\t{event[1]}\")\n"
   ]
  },
  {
   "cell_type": "code",
   "execution_count": null,
   "metadata": {},
   "outputs": [
    {
     "name": "stdout",
     "output_type": "stream",
     "text": [
      "Combined output:\n",
      "Event 1: Alice sent bit 0, Bob thinks Alice sent bit 0\n",
      "Event 2: Alice sent bit 0, Bob thinks Alice sent bit 0\n",
      "Event 3: Alice sent bit 0, Bob thinks Alice sent bit 0\n",
      "Event 4: Alice sent bit 0, Bob thinks Alice sent bit 0\n",
      "Event 5: Alice sent bit 1, Bob thinks Alice sent bit 1\n",
      "Event 6: Alice sent bit 0, Bob thinks Alice sent bit 0\n",
      "Event 7: Alice sent bit 0, Bob thinks Alice sent bit 0\n",
      "Event 8: Alice sent bit 1, Bob thinks Alice sent bit 1\n",
      "Event 9: Alice sent bit 0, Bob thinks Alice sent bit 0\n",
      "Event 10: Alice sent bit 1, Bob thinks Alice sent bit 1\n"
     ]
    },
    {
     "name": "stderr",
     "output_type": "stream",
     "text": [
      "/var/folders/z3/5wtht_qx4ylbrx748h07ps780000gn/T/ipykernel_78368/1845033813.py:24: ComplexWarning: Casting complex values to real discards the imaginary part\n",
      "  detected_events.append([idx, int(bob_polarizer[1, 0])])\n"
     ]
    }
   ],
   "source": [
    "def alice_and_bob(Np):\n",
    "    detected_events = []\n",
    "    for idx in range(1, Np+1):\n",
    "        # Alice: Randomly choose bit to send (0 or 1)\n",
    "        sent_bit = np.random.choice([0, 1])\n",
    "        \n",
    "        # Alice: Convert bit to polarization state\n",
    "        if sent_bit == 0:\n",
    "            photon_state = basis(2, 0)  # |↔⟩ (H polarization)\n",
    "        else:\n",
    "            photon_state = basis(2, 1)  # |⤢⟩ (V polarization)\n",
    "        \n",
    "        # Bob: Randomly choose between |↕⟩ (vertical polarizer) and |⤡⟩ (diagonal polarizer)\n",
    "        bob_polarizer = basis(2, np.random.choice([0, 1]))\n",
    "        \n",
    "        # Combine Alice and Bob actions\n",
    "        combined_state = tensor(photon_state, bob_polarizer)\n",
    "        \n",
    "        # Measure the combined state\n",
    "        measurement = expect(ptrace(composite(combined_state), [0]), photon_state)\n",
    "        \n",
    "        # If there is a click, Bob knows the sent bit\n",
    "        if measurement > 0.5:\n",
    "            detected_events.append([idx, int(bob_polarizer[1, 0])])\n",
    "\n",
    "    return detected_events\n",
    "\n",
    "# Example usage\n",
    "Np = 10  # Number of photons\n",
    "combined_output = alice_and_bob(Np)\n",
    "\n",
    "# Print results\n",
    "print(\"Combined output:\")\n",
    "for event in combined_output:\n",
    "    print(f\"Event {event[0]}: Alice sent bit {event[1]}, Bob thinks Alice sent bit {event[1]}\")\n"
   ]
  },
  {
   "cell_type": "markdown",
   "metadata": {},
   "source": [
    "c) "
   ]
  },
  {
   "cell_type": "code",
   "execution_count": null,
   "metadata": {},
   "outputs": [
    {
     "name": "stdout",
     "output_type": "stream",
     "text": [
      "Alice's output:\n",
      "Event 1: Quantum object: dims = [[2], [1]], shape = (2, 1), type = ket\n",
      "Qobj data =\n",
      "[[1.]\n",
      " [0.]]\n",
      "Event 2: Quantum object: dims = [[2], [1]], shape = (2, 1), type = ket\n",
      "Qobj data =\n",
      "[[0.]\n",
      " [1.]]\n",
      "Event 3: Quantum object: dims = [[2], [1]], shape = (2, 1), type = ket\n",
      "Qobj data =\n",
      "[[0.]\n",
      " [1.]]\n",
      "Event 4: Quantum object: dims = [[2], [1]], shape = (2, 1), type = ket\n",
      "Qobj data =\n",
      "[[0.]\n",
      " [1.]]\n",
      "Event 5: Quantum object: dims = [[2], [1]], shape = (2, 1), type = ket\n",
      "Qobj data =\n",
      "[[0.]\n",
      " [1.]]\n",
      "Event 6: Quantum object: dims = [[2], [1]], shape = (2, 1), type = ket\n",
      "Qobj data =\n",
      "[[0.]\n",
      " [1.]]\n",
      "Event 7: Quantum object: dims = [[2], [1]], shape = (2, 1), type = ket\n",
      "Qobj data =\n",
      "[[1.]\n",
      " [0.]]\n",
      "Event 8: Quantum object: dims = [[2], [1]], shape = (2, 1), type = ket\n",
      "Qobj data =\n",
      "[[0.]\n",
      " [1.]]\n",
      "Event 9: Quantum object: dims = [[2], [1]], shape = (2, 1), type = ket\n",
      "Qobj data =\n",
      "[[1.]\n",
      " [0.]]\n",
      "Event 10: Quantum object: dims = [[2], [1]], shape = (2, 1), type = ket\n",
      "Qobj data =\n",
      "[[0.]\n",
      " [1.]]\n",
      "\n",
      "Bob's detected events:\n",
      "Event 1: Bob thinks Alice sent bit 1\n",
      "Event 2: Bob thinks Alice sent bit 0\n",
      "Event 3: Bob thinks Alice sent bit 0\n",
      "Event 4: Bob thinks Alice sent bit 0\n",
      "Event 5: Bob thinks Alice sent bit 0\n",
      "Event 6: Bob thinks Alice sent bit 0\n",
      "Event 7: Bob thinks Alice sent bit 0\n",
      "Event 8: Bob thinks Alice sent bit 1\n",
      "Event 9: Bob thinks Alice sent bit 0\n",
      "Event 10: Bob thinks Alice sent bit 1\n"
     ]
    },
    {
     "name": "stderr",
     "output_type": "stream",
     "text": [
      "/var/folders/z3/5wtht_qx4ylbrx748h07ps780000gn/T/ipykernel_78368/1150100772.py:18: ComplexWarning: Casting complex values to real discards the imaginary part\n",
      "  detected_events.append([idx, int(bob_polarizer[1, 0])])\n"
     ]
    }
   ],
   "source": [
    "import numpy as np\n",
    "from qutip import *\n",
    "\n",
    "def bob(alice_output):\n",
    "    detected_events = []\n",
    "    for idx, photon_state in alice_output:\n",
    "        # Bob: Randomly choose between |↕⟩ (vertical polarizer) and |⤡⟩ (diagonal polarizer)\n",
    "        bob_polarizer = basis(2, np.random.choice([0, 1]))\n",
    "        \n",
    "        # Combine Alice and Bob actions\n",
    "        combined_state = tensor(photon_state, bob_polarizer)\n",
    "        \n",
    "        # Measure the combined state\n",
    "        measurement = expect(ptrace(composite(combined_state), [0]), photon_state)\n",
    "        \n",
    "        # If there is a click, Bob knows the sent bit\n",
    "        if measurement > 0.5:\n",
    "            detected_events.append([idx, int(bob_polarizer[1, 0])])\n",
    "\n",
    "    return detected_events\n",
    "\n",
    "# Example usage\n",
    "Np = 10  # Number of photons\n",
    "alice_output = alice(Np)\n",
    "bob_output = bob(alice_output)\n",
    "\n",
    "# Print results\n",
    "print(\"Alice's output:\")\n",
    "for event in alice_output:\n",
    "    print(f\"Event {event[0]}: {event[1]}\")\n",
    "\n",
    "print(\"\\nBob's detected events:\")\n",
    "for event in bob_output:\n",
    "    print(f\"Event {event[0]}: Bob thinks Alice sent bit {event[1]}\")\n"
   ]
  },
  {
   "cell_type": "markdown",
   "metadata": {},
   "source": [
    "d)"
   ]
  },
  {
   "cell_type": "code",
   "execution_count": null,
   "metadata": {},
   "outputs": [],
   "source": [
    "def Eve(events):\n",
    "    results = []\n",
    "    for event in events:\n",
    "        index, state = event\n",
    "        # Eve performs the same measurement as Bob\n",
    "        measurement = state.measure([qt.basis(2, 0), qt.basis(2, 1)])\n",
    "        # Eve makes her best guess based on the measurement\n",
    "        if measurement[0] == 1:\n",
    "            guessed_state = qt.basis(2, 0)\n",
    "        elif measurement[1] == 1:\n",
    "            guessed_state = qt.basis(2, 1)\n",
    "        results.append([index, guessed_state])\n",
    "        print(results)\n",
    "    return results"
   ]
  },
  {
   "cell_type": "code",
   "execution_count": null,
   "metadata": {},
   "outputs": [],
   "source": [
    "def Eve(events):\n",
    "    results = []\n",
    "    for event in events:\n",
    "        index, state = event\n",
    "        # Eve performs the same measurement as Bob\n",
    "        measurement = qt.expect([qt.basis(2, 0), qt.basis(2, 1)], state)\n",
    "        # Eve makes her best guess based on the measurement\n",
    "        if measurement[0] == 1:\n",
    "            guessed_state = qt.basis(2, 0)\n",
    "        elif measurement[1] == 1:\n",
    "            guessed_state = qt.basis(2, 1)\n",
    "        results.append([index, guessed_state])\n",
    "    return results\n"
   ]
  },
  {
   "cell_type": "markdown",
   "metadata": {},
   "source": [
    "e)"
   ]
  },
  {
   "cell_type": "code",
   "execution_count": 14,
   "metadata": {},
   "outputs": [
    {
     "ename": "TypeError",
     "evalue": "Invalid operand types",
     "output_type": "error",
     "traceback": [
      "\u001b[0;31m---------------------------------------------------------------------------\u001b[0m",
      "\u001b[0;31mTypeError\u001b[0m                                 Traceback (most recent call last)",
      "Cell \u001b[0;32mIn[14], line 7\u001b[0m\n\u001b[1;32m      4\u001b[0m alice_events \u001b[38;5;241m=\u001b[39m Alice(Np)\n\u001b[1;32m      6\u001b[0m \u001b[38;5;66;03m# Bob receives and measures the photons\u001b[39;00m\n\u001b[0;32m----> 7\u001b[0m bob_output \u001b[38;5;241m=\u001b[39m \u001b[43mBob\u001b[49m\u001b[43m(\u001b[49m\u001b[43malice_events\u001b[49m\u001b[43m)\u001b[49m\n\u001b[1;32m      9\u001b[0m \u001b[38;5;66;03m# Alice and Bob use half of the events for verification\u001b[39;00m\n\u001b[1;32m     10\u001b[0m verification_size \u001b[38;5;241m=\u001b[39m Np \u001b[38;5;241m/\u001b[39m\u001b[38;5;241m/\u001b[39m \u001b[38;5;241m2\u001b[39m\n",
      "Cell \u001b[0;32mIn[11], line 21\u001b[0m, in \u001b[0;36mBob\u001b[0;34m(events)\u001b[0m\n\u001b[1;32m     19\u001b[0m \u001b[38;5;66;03m# Bob randomly chooses to measure with |↕⟩ or |⤡⟩\u001b[39;00m\n\u001b[1;32m     20\u001b[0m measurement_basis \u001b[38;5;241m=\u001b[39m qt\u001b[38;5;241m.\u001b[39mbasis(\u001b[38;5;241m2\u001b[39m, np\u001b[38;5;241m.\u001b[39mrandom\u001b[38;5;241m.\u001b[39mchoice([\u001b[38;5;241m0\u001b[39m, \u001b[38;5;241m1\u001b[39m]))\n\u001b[0;32m---> 21\u001b[0m probability_of_click \u001b[38;5;241m=\u001b[39m \u001b[38;5;28mabs\u001b[39m(\u001b[43mqt\u001b[49m\u001b[38;5;241;43m.\u001b[39;49m\u001b[43mexpect\u001b[49m\u001b[43m(\u001b[49m\u001b[43mmeasurement_basis\u001b[49m\u001b[43m,\u001b[49m\u001b[43m \u001b[49m\u001b[43mphoton_state\u001b[49m\u001b[43m)\u001b[49m)\u001b[38;5;241m*\u001b[39m\u001b[38;5;241m*\u001b[39m\u001b[38;5;241m2\u001b[39m\n\u001b[1;32m     23\u001b[0m \u001b[38;5;28;01mif\u001b[39;00m np\u001b[38;5;241m.\u001b[39mrandom\u001b[38;5;241m.\u001b[39mrand() \u001b[38;5;241m<\u001b[39m probability_of_click:\n\u001b[1;32m     24\u001b[0m     \u001b[38;5;66;03m# Bob gets a click, and he infers the bit sent by Alice\u001b[39;00m\n\u001b[1;32m     25\u001b[0m     inferred_bit \u001b[38;5;241m=\u001b[39m \u001b[38;5;241m0\u001b[39m \u001b[38;5;28;01mif\u001b[39;00m measurement_basis \u001b[38;5;241m==\u001b[39m qt\u001b[38;5;241m.\u001b[39mbasis(\u001b[38;5;241m2\u001b[39m, \u001b[38;5;241m0\u001b[39m) \u001b[38;5;28;01melse\u001b[39;00m \u001b[38;5;241m1\u001b[39m\n",
      "File \u001b[0;32m/Library/Frameworks/Python.framework/Versions/3.12/lib/python3.12/site-packages/qutip/expect.py:41\u001b[0m, in \u001b[0;36mexpect\u001b[0;34m(oper, state)\u001b[0m\n\u001b[1;32m     17\u001b[0m \u001b[38;5;250m\u001b[39m\u001b[38;5;124;03m'''Calculates the expectation value for operator(s) and state(s).\u001b[39;00m\n\u001b[1;32m     18\u001b[0m \n\u001b[1;32m     19\u001b[0m \u001b[38;5;124;03mParameters\u001b[39;00m\n\u001b[0;32m   (...)\u001b[0m\n\u001b[1;32m     38\u001b[0m \n\u001b[1;32m     39\u001b[0m \u001b[38;5;124;03m'''\u001b[39;00m\n\u001b[1;32m     40\u001b[0m \u001b[38;5;28;01mif\u001b[39;00m \u001b[38;5;28misinstance\u001b[39m(state, Qobj) \u001b[38;5;129;01mand\u001b[39;00m \u001b[38;5;28misinstance\u001b[39m(oper, Qobj):\n\u001b[0;32m---> 41\u001b[0m     \u001b[38;5;28;01mreturn\u001b[39;00m \u001b[43m_single_qobj_expect\u001b[49m\u001b[43m(\u001b[49m\u001b[43moper\u001b[49m\u001b[43m,\u001b[49m\u001b[43m \u001b[49m\u001b[43mstate\u001b[49m\u001b[43m)\u001b[49m\n\u001b[1;32m     43\u001b[0m \u001b[38;5;28;01melif\u001b[39;00m \u001b[38;5;28misinstance\u001b[39m(oper, Qobj) \u001b[38;5;129;01mand\u001b[39;00m \u001b[38;5;28misinstance\u001b[39m(state, eseries):\n\u001b[1;32m     44\u001b[0m     \u001b[38;5;28;01mreturn\u001b[39;00m _single_eseries_expect(oper, state)\n",
      "File \u001b[0;32m/Library/Frameworks/Python.framework/Versions/3.12/lib/python3.12/site-packages/qutip/expect.py:88\u001b[0m, in \u001b[0;36m_single_qobj_expect\u001b[0;34m(oper, state)\u001b[0m\n\u001b[1;32m     85\u001b[0m         \u001b[38;5;28;01mreturn\u001b[39;00m expect_csr_ket(oper\u001b[38;5;241m.\u001b[39mdata, state\u001b[38;5;241m.\u001b[39mdata,\n\u001b[1;32m     86\u001b[0m                              oper\u001b[38;5;241m.\u001b[39misherm)\n\u001b[1;32m     87\u001b[0m \u001b[38;5;28;01melse\u001b[39;00m:\n\u001b[0;32m---> 88\u001b[0m     \u001b[38;5;28;01mraise\u001b[39;00m \u001b[38;5;167;01mTypeError\u001b[39;00m(\u001b[38;5;124m'\u001b[39m\u001b[38;5;124mInvalid operand types\u001b[39m\u001b[38;5;124m'\u001b[39m)\n",
      "\u001b[0;31mTypeError\u001b[0m: Invalid operand types"
     ]
    }
   ],
   "source": [
    "Np = 100\n",
    "\n",
    "# Alice sends photons to Bob through the channel\n",
    "alice_events = Alice(Np)\n",
    "\n",
    "# Bob receives and measures the photons\n",
    "bob_output = Bob(alice_events)\n",
    "\n",
    "# Alice and Bob use half of the events for verification\n",
    "verification_size = Np // 2\n",
    "alice_verify = alice_events[:verification_size]\n",
    "bob_verify = bob_output[:verification_size]\n",
    "\n",
    "# Count the number of errors in the verification process\n",
    "error_count = sum(1 for a, b in zip(alice_verify, bob_verify) if a[1] != b[1])\n",
    "\n",
    "# Calculate the error rate\n",
    "error_rate = error_count / verification_size\n",
    "\n",
    "print(\"Error Rate:\", error_rate)\n"
   ]
  },
  {
   "cell_type": "markdown",
   "metadata": {},
   "source": [
    "f)"
   ]
  },
  {
   "cell_type": "code",
   "execution_count": 5,
   "metadata": {},
   "outputs": [],
   "source": [
    "def Eve(events, error_rate=0.25):\n",
    "    results = []\n",
    "    for event in events:\n",
    "        index, state = event\n",
    "        # Introduce a controlled error based on the specified error rate\n",
    "        if np.random.rand() < error_rate:\n",
    "            # Flip the guessed bit with 50% probability\n",
    "            guessed_state = qt.basis(2, 1 - state.argmax())\n",
    "        else:\n",
    "            # Perform the same measurement as Bob\n",
    "            measurement = qt.expect([qt.basis(2, 0), qt.basis(2, 1)], state)\n",
    "            # Find the index of the maximum expectation value\n",
    "            max_index = np.argmax(measurement)\n",
    "            # Eve makes her best guess based on the measurement\n",
    "            guessed_state = qt.basis(2, max_index)\n",
    "        results.append([index, guessed_state])\n",
    "    return results\n"
   ]
  },
  {
   "cell_type": "code",
   "execution_count": 6,
   "metadata": {},
   "outputs": [],
   "source": [
    "def Bob(events, error_rate=0.25):\n",
    "    results = []\n",
    "    for event in events:\n",
    "        index, state = event\n",
    "        \n",
    "        # Introduce a controlled error based on the specified error rate\n",
    "        if np.random.rand() < error_rate:\n",
    "            # Flip the guessed bit with 50% probability\n",
    "            guessed_bit = 1 - state.argmax()\n",
    "        else:\n",
    "            # Bob performs the same measurement as before\n",
    "            measurement = state.measure([qt.basis(2, 0), qt.basis(2, 1)])\n",
    "            if measurement[0] == 1:\n",
    "                guessed_bit = 0\n",
    "            elif measurement[1] == 1:\n",
    "                guessed_bit = 1\n",
    "                \n",
    "        results.append([index, guessed_bit])\n",
    "    return results\n"
   ]
  },
  {
   "cell_type": "code",
   "execution_count": 7,
   "metadata": {},
   "outputs": [],
   "source": [
    "def Eve(events):\n",
    "    results = []\n",
    "    for event in events:\n",
    "        index, state = event\n",
    "        # Eve randomly chooses a guessed state\n",
    "        guessed_state = qt.basis(2, np.random.choice([0, 1]))\n",
    "        results.append([index, guessed_state])\n",
    "    return results\n"
   ]
  },
  {
   "cell_type": "code",
   "execution_count": 18,
   "metadata": {},
   "outputs": [
    {
     "ename": "TypeError",
     "evalue": "Invalid operand types",
     "output_type": "error",
     "traceback": [
      "\u001b[0;31m---------------------------------------------------------------------------\u001b[0m",
      "\u001b[0;31mTypeError\u001b[0m                                 Traceback (most recent call last)",
      "Cell \u001b[0;32mIn[18], line 7\u001b[0m\n\u001b[1;32m      4\u001b[0m alice_events \u001b[38;5;241m=\u001b[39m Alice(Np)\n\u001b[1;32m      6\u001b[0m \u001b[38;5;66;03m# Eve randomly guesses the states\u001b[39;00m\n\u001b[0;32m----> 7\u001b[0m eve_output \u001b[38;5;241m=\u001b[39m \u001b[43mEve\u001b[49m\u001b[43m(\u001b[49m\u001b[43malice_events\u001b[49m\u001b[43m)\u001b[49m\n\u001b[1;32m      9\u001b[0m \u001b[38;5;66;03m# Bob receives and measures the photons\u001b[39;00m\n\u001b[1;32m     10\u001b[0m bob_output \u001b[38;5;241m=\u001b[39m Bob(eve_output)\n",
      "Cell \u001b[0;32mIn[15], line 25\u001b[0m, in \u001b[0;36mEve\u001b[0;34m(Alice_output)\u001b[0m\n\u001b[1;32m     23\u001b[0m \u001b[38;5;28;01mdef\u001b[39;00m \u001b[38;5;21mEve\u001b[39m(Alice_output):\n\u001b[1;32m     24\u001b[0m     \u001b[38;5;66;03m# Eve performs the same measurement as Bob\u001b[39;00m\n\u001b[0;32m---> 25\u001b[0m     \u001b[38;5;28;01mreturn\u001b[39;00m \u001b[43mBob\u001b[49m\u001b[43m(\u001b[49m\u001b[43mAlice_output\u001b[49m\u001b[43m)\u001b[49m\n",
      "Cell \u001b[0;32mIn[17], line 21\u001b[0m, in \u001b[0;36mBob\u001b[0;34m(events)\u001b[0m\n\u001b[1;32m     19\u001b[0m \u001b[38;5;66;03m# Bob randomly chooses to measure with |↕⟩ or |⤡⟩\u001b[39;00m\n\u001b[1;32m     20\u001b[0m measurement_basis \u001b[38;5;241m=\u001b[39m qt\u001b[38;5;241m.\u001b[39mbasis(\u001b[38;5;241m2\u001b[39m, np\u001b[38;5;241m.\u001b[39mrandom\u001b[38;5;241m.\u001b[39mchoice([\u001b[38;5;241m0\u001b[39m, \u001b[38;5;241m1\u001b[39m]))\n\u001b[0;32m---> 21\u001b[0m probability_of_click \u001b[38;5;241m=\u001b[39m \u001b[38;5;28mabs\u001b[39m(\u001b[43mqt\u001b[49m\u001b[38;5;241;43m.\u001b[39;49m\u001b[43mexpect\u001b[49m\u001b[43m(\u001b[49m\u001b[43mmeasurement_basis\u001b[49m\u001b[43m,\u001b[49m\u001b[43m \u001b[49m\u001b[43mphoton_state\u001b[49m\u001b[43m)\u001b[49m)\u001b[38;5;241m*\u001b[39m\u001b[38;5;241m*\u001b[39m\u001b[38;5;241m2\u001b[39m\n\u001b[1;32m     23\u001b[0m \u001b[38;5;28;01mif\u001b[39;00m np\u001b[38;5;241m.\u001b[39mrandom\u001b[38;5;241m.\u001b[39mrand() \u001b[38;5;241m<\u001b[39m probability_of_click:\n\u001b[1;32m     24\u001b[0m     \u001b[38;5;66;03m# Bob gets a click, and he infers the bit sent by Alice\u001b[39;00m\n\u001b[1;32m     25\u001b[0m     inferred_bit \u001b[38;5;241m=\u001b[39m \u001b[38;5;241m0\u001b[39m \u001b[38;5;28;01mif\u001b[39;00m measurement_basis \u001b[38;5;241m==\u001b[39m qt\u001b[38;5;241m.\u001b[39mbasis(\u001b[38;5;241m2\u001b[39m, \u001b[38;5;241m0\u001b[39m) \u001b[38;5;28;01melse\u001b[39;00m \u001b[38;5;241m1\u001b[39m\n",
      "File \u001b[0;32m/Library/Frameworks/Python.framework/Versions/3.12/lib/python3.12/site-packages/qutip/expect.py:41\u001b[0m, in \u001b[0;36mexpect\u001b[0;34m(oper, state)\u001b[0m\n\u001b[1;32m     17\u001b[0m \u001b[38;5;250m\u001b[39m\u001b[38;5;124;03m'''Calculates the expectation value for operator(s) and state(s).\u001b[39;00m\n\u001b[1;32m     18\u001b[0m \n\u001b[1;32m     19\u001b[0m \u001b[38;5;124;03mParameters\u001b[39;00m\n\u001b[0;32m   (...)\u001b[0m\n\u001b[1;32m     38\u001b[0m \n\u001b[1;32m     39\u001b[0m \u001b[38;5;124;03m'''\u001b[39;00m\n\u001b[1;32m     40\u001b[0m \u001b[38;5;28;01mif\u001b[39;00m \u001b[38;5;28misinstance\u001b[39m(state, Qobj) \u001b[38;5;129;01mand\u001b[39;00m \u001b[38;5;28misinstance\u001b[39m(oper, Qobj):\n\u001b[0;32m---> 41\u001b[0m     \u001b[38;5;28;01mreturn\u001b[39;00m \u001b[43m_single_qobj_expect\u001b[49m\u001b[43m(\u001b[49m\u001b[43moper\u001b[49m\u001b[43m,\u001b[49m\u001b[43m \u001b[49m\u001b[43mstate\u001b[49m\u001b[43m)\u001b[49m\n\u001b[1;32m     43\u001b[0m \u001b[38;5;28;01melif\u001b[39;00m \u001b[38;5;28misinstance\u001b[39m(oper, Qobj) \u001b[38;5;129;01mand\u001b[39;00m \u001b[38;5;28misinstance\u001b[39m(state, eseries):\n\u001b[1;32m     44\u001b[0m     \u001b[38;5;28;01mreturn\u001b[39;00m _single_eseries_expect(oper, state)\n",
      "File \u001b[0;32m/Library/Frameworks/Python.framework/Versions/3.12/lib/python3.12/site-packages/qutip/expect.py:88\u001b[0m, in \u001b[0;36m_single_qobj_expect\u001b[0;34m(oper, state)\u001b[0m\n\u001b[1;32m     85\u001b[0m         \u001b[38;5;28;01mreturn\u001b[39;00m expect_csr_ket(oper\u001b[38;5;241m.\u001b[39mdata, state\u001b[38;5;241m.\u001b[39mdata,\n\u001b[1;32m     86\u001b[0m                              oper\u001b[38;5;241m.\u001b[39misherm)\n\u001b[1;32m     87\u001b[0m \u001b[38;5;28;01melse\u001b[39;00m:\n\u001b[0;32m---> 88\u001b[0m     \u001b[38;5;28;01mraise\u001b[39;00m \u001b[38;5;167;01mTypeError\u001b[39;00m(\u001b[38;5;124m'\u001b[39m\u001b[38;5;124mInvalid operand types\u001b[39m\u001b[38;5;124m'\u001b[39m)\n",
      "\u001b[0;31mTypeError\u001b[0m: Invalid operand types"
     ]
    }
   ],
   "source": [
    "Np = 1000  # Increase Np for better statistics\n",
    "\n",
    "# Alice sends photons to Bob through the channel\n",
    "alice_events = Alice(Np)\n",
    "\n",
    "# Eve randomly guesses the states\n",
    "eve_output = Eve(alice_events)\n",
    "\n",
    "# Bob receives and measures the photons\n",
    "bob_output = Bob(eve_output)\n",
    "\n",
    "# Alice and Bob use half of the events for verification\n",
    "verification_size = Np // 2\n",
    "alice_verify = alice_events[:verification_size]\n",
    "bob_verify = bob_output[:verification_size]\n",
    "\n",
    "# Count the number of errors in the verification process\n",
    "error_count = sum(1 for a, b in zip(alice_verify, bob_verify) if a[1] != b[1])\n",
    "\n",
    "# Calculate the error rate\n",
    "error_rate = error_count / verification_size\n",
    "\n",
    "print(\"Error Rate:\", error_rate)\n"
   ]
  },
  {
   "cell_type": "code",
   "execution_count": 15,
   "metadata": {},
   "outputs": [
    {
     "ename": "AttributeError",
     "evalue": "'int' object has no attribute 'dag'",
     "output_type": "error",
     "traceback": [
      "\u001b[0;31m---------------------------------------------------------------------------\u001b[0m",
      "\u001b[0;31mAttributeError\u001b[0m                            Traceback (most recent call last)",
      "Cell \u001b[0;32mIn[15], line 37\u001b[0m\n\u001b[1;32m     35\u001b[0m Alice_output \u001b[38;5;241m=\u001b[39m Alice(Np)\n\u001b[1;32m     36\u001b[0m Eve_output \u001b[38;5;241m=\u001b[39m Eve(Alice_output)\n\u001b[0;32m---> 37\u001b[0m Bob_output \u001b[38;5;241m=\u001b[39m \u001b[43mBob\u001b[49m\u001b[43m(\u001b[49m\u001b[43mEve_output\u001b[49m\u001b[43m)\u001b[49m\n\u001b[1;32m     39\u001b[0m \u001b[38;5;66;03m# Calculate the error rate\u001b[39;00m\n\u001b[1;32m     40\u001b[0m \u001b[38;5;28mprint\u001b[39m(\u001b[38;5;124mf\u001b[39m\u001b[38;5;124m\"\u001b[39m\u001b[38;5;124mError rate: \u001b[39m\u001b[38;5;132;01m{\u001b[39;00merror_rate(Alice_output,\u001b[38;5;250m \u001b[39mBob_output)\u001b[38;5;132;01m}\u001b[39;00m\u001b[38;5;124m\"\u001b[39m)\n",
      "Cell \u001b[0;32mIn[15], line 17\u001b[0m, in \u001b[0;36mBob\u001b[0;34m(Alice_output)\u001b[0m\n\u001b[1;32m     15\u001b[0m clicks \u001b[38;5;241m=\u001b[39m []\n\u001b[1;32m     16\u001b[0m \u001b[38;5;28;01mfor\u001b[39;00m i, state \u001b[38;5;129;01min\u001b[39;00m Alice_output:\n\u001b[0;32m---> 17\u001b[0m     measurement \u001b[38;5;241m=\u001b[39m \u001b[43mstate\u001b[49m\u001b[38;5;241;43m.\u001b[39;49m\u001b[43mdag\u001b[49m() \u001b[38;5;241m*\u001b[39m state\n\u001b[1;32m     18\u001b[0m     \u001b[38;5;28;01mif\u001b[39;00m measurement[\u001b[38;5;241m0\u001b[39m, \u001b[38;5;241m0\u001b[39m] \u001b[38;5;241m==\u001b[39m \u001b[38;5;241m1\u001b[39m:  \u001b[38;5;66;03m# Bob's detector clicks\u001b[39;00m\n\u001b[1;32m     19\u001b[0m         bit \u001b[38;5;241m=\u001b[39m \u001b[38;5;241m0\u001b[39m \u001b[38;5;28;01mif\u001b[39;00m state \u001b[38;5;241m==\u001b[39m zero_state \u001b[38;5;28;01melse\u001b[39;00m \u001b[38;5;241m1\u001b[39m\n",
      "\u001b[0;31mAttributeError\u001b[0m: 'int' object has no attribute 'dag'"
     ]
    }
   ],
   "source": [
    "import numpy as np\n",
    "from qutip import Qobj\n",
    "\n",
    "# Define the quantum states\n",
    "zero_state = Qobj([[1], [0]])  # |↔⟩\n",
    "one_state = Qobj([[0], [1]])  # |⤢⟩\n",
    "\n",
    "def Alice(Np):\n",
    "    np.random.seed(0)\n",
    "    bits = np.random.randint(2, size=Np)\n",
    "    states = [zero_state if bit == 0 else one_state for bit in bits]\n",
    "    return list(enumerate(states, start=1))\n",
    "\n",
    "def Bob(Alice_output):\n",
    "    clicks = []\n",
    "    for i, state in Alice_output:\n",
    "        measurement = state.dag() * state\n",
    "        if measurement[0, 0] == 1:  # Bob's detector clicks\n",
    "            bit = 0 if state == zero_state else 1\n",
    "            clicks.append((i, bit))\n",
    "    return clicks\n",
    "\n",
    "def Eve(Alice_output):\n",
    "    # Eve performs the same measurement as Bob\n",
    "    return Bob(Alice_output)\n",
    "\n",
    "def error_rate(Alice_output, Bob_output):\n",
    "    Np = len(Alice_output)\n",
    "    N = len(Bob_output)\n",
    "    errors = sum(Alice_output[i-1][1] != bit for i, bit in Bob_output)\n",
    "    return errors / Np\n",
    "\n",
    "# Simulate the protocol\n",
    "Np = 100\n",
    "Alice_output = Alice(Np)\n",
    "Eve_output = Eve(Alice_output)\n",
    "Bob_output = Bob(Eve_output)\n",
    "\n",
    "# Calculate the error rate\n",
    "print(f\"Error rate: {error_rate(Alice_output, Bob_output)}\")\n"
   ]
  },
  {
   "cell_type": "code",
   "execution_count": 16,
   "metadata": {},
   "outputs": [
    {
     "ename": "ValueError",
     "evalue": "a must be 1-dimensional",
     "output_type": "error",
     "traceback": [
      "\u001b[0;31m---------------------------------------------------------------------------\u001b[0m",
      "\u001b[0;31mValueError\u001b[0m                                Traceback (most recent call last)",
      "Cell \u001b[0;32mIn[16], line 44\u001b[0m\n\u001b[1;32m     41\u001b[0m     \u001b[38;5;28;01mreturn\u001b[39;00m private_key, verification_passed\n\u001b[1;32m     43\u001b[0m \u001b[38;5;66;03m# Example usage with 100 photons\u001b[39;00m\n\u001b[0;32m---> 44\u001b[0m private_key, verification_passed \u001b[38;5;241m=\u001b[39m \u001b[43mgenerate_private_key\u001b[49m\u001b[43m(\u001b[49m\u001b[38;5;241;43m100\u001b[39;49m\u001b[43m)\u001b[49m\n\u001b[1;32m     46\u001b[0m \u001b[38;5;28mprint\u001b[39m(\u001b[38;5;124m\"\u001b[39m\u001b[38;5;124mPrivate Key:\u001b[39m\u001b[38;5;124m\"\u001b[39m, private_key)\n\u001b[1;32m     47\u001b[0m \u001b[38;5;28mprint\u001b[39m(\u001b[38;5;124m\"\u001b[39m\u001b[38;5;124mChannel Verification Passed:\u001b[39m\u001b[38;5;124m\"\u001b[39m, verification_passed)\n",
      "Cell \u001b[0;32mIn[16], line 28\u001b[0m, in \u001b[0;36mgenerate_private_key\u001b[0;34m(Np)\u001b[0m\n\u001b[1;32m     26\u001b[0m \u001b[38;5;28;01mdef\u001b[39;00m \u001b[38;5;21mgenerate_private_key\u001b[39m(Np):\n\u001b[1;32m     27\u001b[0m     alice_output \u001b[38;5;241m=\u001b[39m alice(Np)\n\u001b[0;32m---> 28\u001b[0m     bob_output \u001b[38;5;241m=\u001b[39m \u001b[43mbob\u001b[49m\u001b[43m(\u001b[49m\u001b[43malice_output\u001b[49m\u001b[43m)\u001b[49m\n\u001b[1;32m     30\u001b[0m     \u001b[38;5;66;03m# Use 1/2 of the accepted events for verification\u001b[39;00m\n\u001b[1;32m     31\u001b[0m     num_verification_events \u001b[38;5;241m=\u001b[39m \u001b[38;5;28mlen\u001b[39m(bob_output) \u001b[38;5;241m/\u001b[39m\u001b[38;5;241m/\u001b[39m \u001b[38;5;241m2\u001b[39m\n",
      "Cell \u001b[0;32mIn[16], line 18\u001b[0m, in \u001b[0;36mbob\u001b[0;34m(alice_output)\u001b[0m\n\u001b[1;32m     15\u001b[0m accepted_events \u001b[38;5;241m=\u001b[39m []\n\u001b[1;32m     16\u001b[0m \u001b[38;5;28;01mfor\u001b[39;00m event \u001b[38;5;129;01min\u001b[39;00m alice_output:\n\u001b[1;32m     17\u001b[0m     \u001b[38;5;66;03m# Bob randomly chooses between |↕⟩ and |⤡⟩\u001b[39;00m\n\u001b[0;32m---> 18\u001b[0m     bob_polarizer \u001b[38;5;241m=\u001b[39m \u001b[43mnp\u001b[49m\u001b[38;5;241;43m.\u001b[39;49m\u001b[43mrandom\u001b[49m\u001b[38;5;241;43m.\u001b[39;49m\u001b[43mchoice\u001b[49m\u001b[43m(\u001b[49m\u001b[43m[\u001b[49m\u001b[43mbasis\u001b[49m\u001b[43m(\u001b[49m\u001b[38;5;241;43m2\u001b[39;49m\u001b[43m,\u001b[49m\u001b[43m \u001b[49m\u001b[38;5;241;43m0\u001b[39;49m\u001b[43m)\u001b[49m\u001b[43m,\u001b[49m\u001b[43m \u001b[49m\u001b[43mbasis\u001b[49m\u001b[43m(\u001b[49m\u001b[38;5;241;43m2\u001b[39;49m\u001b[43m,\u001b[49m\u001b[43m \u001b[49m\u001b[38;5;241;43m1\u001b[39;49m\u001b[43m)\u001b[49m\u001b[43m]\u001b[49m\u001b[43m)\u001b[49m\n\u001b[1;32m     19\u001b[0m     \u001b[38;5;66;03m# Measure the photon with the chosen polarizer\u001b[39;00m\n\u001b[1;32m     20\u001b[0m     measurement \u001b[38;5;241m=\u001b[39m event[\u001b[38;5;241m1\u001b[39m]\u001b[38;5;241m.\u001b[39moverlap(bob_polarizer)\n",
      "File \u001b[0;32mnumpy/random/mtrand.pyx:947\u001b[0m, in \u001b[0;36mnumpy.random.mtrand.RandomState.choice\u001b[0;34m()\u001b[0m\n",
      "\u001b[0;31mValueError\u001b[0m: a must be 1-dimensional"
     ]
    }
   ],
   "source": [
    "import numpy as np\n",
    "from qutip import basis, Qobj\n",
    "\n",
    "def alice(Np):\n",
    "    events = []\n",
    "    for i in range(1, Np+1):\n",
    "        # Randomly choose 0 or 1 with equal probability\n",
    "        bit = np.random.choice([0, 1])\n",
    "        # Create a qubit in H/V basis\n",
    "        photon_state = basis(2, bit)\n",
    "        events.append([i, photon_state])\n",
    "    return events\n",
    "\n",
    "def bob(alice_output):\n",
    "    accepted_events = []\n",
    "    for event in alice_output:\n",
    "        # Bob randomly chooses between |↕⟩ and |⤡⟩\n",
    "        bob_polarizer = np.random.choice([basis(2, 0), basis(2, 1)])\n",
    "        # Measure the photon with the chosen polarizer\n",
    "        measurement = event[1].overlap(bob_polarizer)\n",
    "        if measurement != 0:\n",
    "            # If Bob gets a click, record the event index and the bit he thinks Alice sent\n",
    "            accepted_events.append([event[0], int(measurement)])\n",
    "    return accepted_events\n",
    "\n",
    "def generate_private_key(Np):\n",
    "    alice_output = alice(Np)\n",
    "    bob_output = bob(alice_output)\n",
    "    \n",
    "    # Use 1/2 of the accepted events for verification\n",
    "    num_verification_events = len(bob_output) // 2\n",
    "    verification_events = bob_output[:num_verification_events]\n",
    "    remaining_events = bob_output[num_verification_events:]\n",
    "    \n",
    "    # Verify the channel using 1/2 of the accepted events\n",
    "    verification_passed = all([event[1] == alice_output[event[0]-1][1].nonzero()[1][0] for event in verification_events])\n",
    "    \n",
    "    # Generate private key using the remaining accepted events\n",
    "    private_key = [event[1] for event in remaining_events]\n",
    "    \n",
    "    return private_key, verification_passed\n",
    "\n",
    "# Example usage with 100 photons\n",
    "private_key, verification_passed = generate_private_key(100)\n",
    "\n",
    "print(\"Private Key:\", private_key)\n",
    "print(\"Channel Verification Passed:\", verification_passed)\n"
   ]
  },
  {
   "cell_type": "code",
   "execution_count": 17,
   "metadata": {},
   "outputs": [
    {
     "ename": "TypeError",
     "evalue": "Invalid operand types",
     "output_type": "error",
     "traceback": [
      "\u001b[0;31m---------------------------------------------------------------------------\u001b[0m",
      "\u001b[0;31mTypeError\u001b[0m                                 Traceback (most recent call last)",
      "Cell \u001b[0;32mIn[17], line 37\u001b[0m\n\u001b[1;32m     34\u001b[0m alice_events \u001b[38;5;241m=\u001b[39m Alice(Np)\n\u001b[1;32m     36\u001b[0m \u001b[38;5;66;03m# Bob measures photons and infers bits\u001b[39;00m\n\u001b[0;32m---> 37\u001b[0m bob_results \u001b[38;5;241m=\u001b[39m \u001b[43mBob\u001b[49m\u001b[43m(\u001b[49m\u001b[43malice_events\u001b[49m\u001b[43m)\u001b[49m\n\u001b[1;32m     39\u001b[0m \u001b[38;5;66;03m# Print results\u001b[39;00m\n\u001b[1;32m     40\u001b[0m \u001b[38;5;28mprint\u001b[39m(\u001b[38;5;124m\"\u001b[39m\u001b[38;5;124mAlice\u001b[39m\u001b[38;5;124m'\u001b[39m\u001b[38;5;124ms sent photons:\u001b[39m\u001b[38;5;124m\"\u001b[39m)\n",
      "Cell \u001b[0;32mIn[17], line 21\u001b[0m, in \u001b[0;36mBob\u001b[0;34m(events)\u001b[0m\n\u001b[1;32m     19\u001b[0m \u001b[38;5;66;03m# Bob randomly chooses to measure with |↕⟩ or |⤡⟩\u001b[39;00m\n\u001b[1;32m     20\u001b[0m measurement_basis \u001b[38;5;241m=\u001b[39m qt\u001b[38;5;241m.\u001b[39mbasis(\u001b[38;5;241m2\u001b[39m, np\u001b[38;5;241m.\u001b[39mrandom\u001b[38;5;241m.\u001b[39mchoice([\u001b[38;5;241m0\u001b[39m, \u001b[38;5;241m1\u001b[39m]))\n\u001b[0;32m---> 21\u001b[0m probability_of_click \u001b[38;5;241m=\u001b[39m \u001b[38;5;28mabs\u001b[39m(\u001b[43mqt\u001b[49m\u001b[38;5;241;43m.\u001b[39;49m\u001b[43mexpect\u001b[49m\u001b[43m(\u001b[49m\u001b[43mmeasurement_basis\u001b[49m\u001b[43m,\u001b[49m\u001b[43m \u001b[49m\u001b[43mphoton_state\u001b[49m\u001b[43m)\u001b[49m)\u001b[38;5;241m*\u001b[39m\u001b[38;5;241m*\u001b[39m\u001b[38;5;241m2\u001b[39m\n\u001b[1;32m     23\u001b[0m \u001b[38;5;28;01mif\u001b[39;00m np\u001b[38;5;241m.\u001b[39mrandom\u001b[38;5;241m.\u001b[39mrand() \u001b[38;5;241m<\u001b[39m probability_of_click:\n\u001b[1;32m     24\u001b[0m     \u001b[38;5;66;03m# Bob gets a click, and he infers the bit sent by Alice\u001b[39;00m\n\u001b[1;32m     25\u001b[0m     inferred_bit \u001b[38;5;241m=\u001b[39m \u001b[38;5;241m0\u001b[39m \u001b[38;5;28;01mif\u001b[39;00m measurement_basis \u001b[38;5;241m==\u001b[39m qt\u001b[38;5;241m.\u001b[39mbasis(\u001b[38;5;241m2\u001b[39m, \u001b[38;5;241m0\u001b[39m) \u001b[38;5;28;01melse\u001b[39;00m \u001b[38;5;241m1\u001b[39m\n",
      "File \u001b[0;32m/Library/Frameworks/Python.framework/Versions/3.12/lib/python3.12/site-packages/qutip/expect.py:41\u001b[0m, in \u001b[0;36mexpect\u001b[0;34m(oper, state)\u001b[0m\n\u001b[1;32m     17\u001b[0m \u001b[38;5;250m\u001b[39m\u001b[38;5;124;03m'''Calculates the expectation value for operator(s) and state(s).\u001b[39;00m\n\u001b[1;32m     18\u001b[0m \n\u001b[1;32m     19\u001b[0m \u001b[38;5;124;03mParameters\u001b[39;00m\n\u001b[0;32m   (...)\u001b[0m\n\u001b[1;32m     38\u001b[0m \n\u001b[1;32m     39\u001b[0m \u001b[38;5;124;03m'''\u001b[39;00m\n\u001b[1;32m     40\u001b[0m \u001b[38;5;28;01mif\u001b[39;00m \u001b[38;5;28misinstance\u001b[39m(state, Qobj) \u001b[38;5;129;01mand\u001b[39;00m \u001b[38;5;28misinstance\u001b[39m(oper, Qobj):\n\u001b[0;32m---> 41\u001b[0m     \u001b[38;5;28;01mreturn\u001b[39;00m \u001b[43m_single_qobj_expect\u001b[49m\u001b[43m(\u001b[49m\u001b[43moper\u001b[49m\u001b[43m,\u001b[49m\u001b[43m \u001b[49m\u001b[43mstate\u001b[49m\u001b[43m)\u001b[49m\n\u001b[1;32m     43\u001b[0m \u001b[38;5;28;01melif\u001b[39;00m \u001b[38;5;28misinstance\u001b[39m(oper, Qobj) \u001b[38;5;129;01mand\u001b[39;00m \u001b[38;5;28misinstance\u001b[39m(state, eseries):\n\u001b[1;32m     44\u001b[0m     \u001b[38;5;28;01mreturn\u001b[39;00m _single_eseries_expect(oper, state)\n",
      "File \u001b[0;32m/Library/Frameworks/Python.framework/Versions/3.12/lib/python3.12/site-packages/qutip/expect.py:88\u001b[0m, in \u001b[0;36m_single_qobj_expect\u001b[0;34m(oper, state)\u001b[0m\n\u001b[1;32m     85\u001b[0m         \u001b[38;5;28;01mreturn\u001b[39;00m expect_csr_ket(oper\u001b[38;5;241m.\u001b[39mdata, state\u001b[38;5;241m.\u001b[39mdata,\n\u001b[1;32m     86\u001b[0m                              oper\u001b[38;5;241m.\u001b[39misherm)\n\u001b[1;32m     87\u001b[0m \u001b[38;5;28;01melse\u001b[39;00m:\n\u001b[0;32m---> 88\u001b[0m     \u001b[38;5;28;01mraise\u001b[39;00m \u001b[38;5;167;01mTypeError\u001b[39;00m(\u001b[38;5;124m'\u001b[39m\u001b[38;5;124mInvalid operand types\u001b[39m\u001b[38;5;124m'\u001b[39m)\n",
      "\u001b[0;31mTypeError\u001b[0m: Invalid operand types"
     ]
    }
   ],
   "source": [
    "import numpy as np\n",
    "import qutip as qt\n",
    "\n",
    "def Alice(Np):\n",
    "    events = []\n",
    "    for i in range(1, Np + 1):\n",
    "        bit_to_send = np.random.choice([0, 1])\n",
    "        if bit_to_send == 0:\n",
    "            photon_state = qt.basis(2, 0)  # |↔⟩\n",
    "        else:\n",
    "            photon_state = qt.basis(2, 1)  # |⤢⟩\n",
    "        events.append([i, photon_state])\n",
    "    return events\n",
    "\n",
    "def Bob(events):\n",
    "    clicks = []\n",
    "    for event in events:\n",
    "        event_number, photon_state = event\n",
    "        # Bob randomly chooses to measure with |↕⟩ or |⤡⟩\n",
    "        measurement_basis = qt.basis(2, np.random.choice([0, 1]))\n",
    "        probability_of_click = abs(qt.expect(measurement_basis, photon_state))**2\n",
    "\n",
    "        if np.random.rand() < probability_of_click:\n",
    "            # Bob gets a click, and he infers the bit sent by Alice\n",
    "            inferred_bit = 0 if measurement_basis == qt.basis(2, 0) else 1\n",
    "            clicks.append([event_number, inferred_bit])\n",
    "\n",
    "    return clicks\n",
    "\n",
    "# Simulation parameters\n",
    "Np = 10  # Number of bits (photons) sent by Alice\n",
    "\n",
    "# Alice sends photons\n",
    "alice_events = Alice(Np)\n",
    "\n",
    "# Bob measures photons and infers bits\n",
    "bob_results = Bob(alice_events)\n",
    "\n",
    "# Print results\n",
    "print(\"Alice's sent photons:\")\n",
    "for event in alice_events:\n",
    "    print(f\"Event {event[0]}: {event[1]}\")\n",
    "\n",
    "print(\"\\nBob's inferred bits:\")\n",
    "for result in bob_results:\n",
    "    print(f\"Event {result[0]}: Bob infers bit {result[1]}\")\n"
   ]
  },
  {
   "cell_type": "code",
   "execution_count": null,
   "metadata": {},
   "outputs": [],
   "source": []
  },
  {
   "cell_type": "code",
   "execution_count": null,
   "metadata": {},
   "outputs": [],
   "source": []
  }
 ],
 "metadata": {
  "kernelspec": {
   "display_name": "Python 3",
   "language": "python",
   "name": "python3"
  },
  "language_info": {
   "codemirror_mode": {
    "name": "ipython",
    "version": 3
   },
   "file_extension": ".py",
   "mimetype": "text/x-python",
   "name": "python",
   "nbconvert_exporter": "python",
   "pygments_lexer": "ipython3",
   "version": "3.12.1"
  }
 },
 "nbformat": 4,
 "nbformat_minor": 2
}
